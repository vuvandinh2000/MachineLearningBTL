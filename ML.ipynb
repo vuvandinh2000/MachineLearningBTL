{
 "cells": [
  {
   "cell_type": "code",
   "execution_count": 60,
   "metadata": {},
   "outputs": [],
   "source": [
    "import pandas as pd\n",
    "housing = pd.read_csv('muabannha_clean.csv')\n",
    "#housing.head()"
   ]
  },
  {
   "cell_type": "code",
   "execution_count": 61,
   "metadata": {},
   "outputs": [
    {
     "data": {
      "text/plain": [
       "((3278, 58),\n",
       " array([3.3, 34.0, 737669.0, 737714.0, 5.0, 4.0, 3.0, 0, 21.0083647,\n",
       "        105.8180219, False, False, True, True, False, False, False, False,\n",
       "        False, False, True, True, False, False, False, False, False, False,\n",
       "        False, False, False, False, False, False, False, False, False,\n",
       "        False, 0.0, 0.0, 0.0, 0.0, 0.0, 0.0, 0.0, 0.0, 0.0, 0.0, 0.0, 0.0,\n",
       "        0.0, 0.0, 0.0, 1.0, 0.0, 0.0, 0.0, 0.0], dtype=object))"
      ]
     },
     "execution_count": 61,
     "metadata": {},
     "output_type": "execute_result"
    }
   ],
   "source": [
    "import numpy as np\n",
    "house = np.array(housing)\n",
    "loaiNha = np.zeros([3278, 1])\n",
    "house = np.hstack([house, loaiNha])\n",
    "house.shape, house[0]"
   ]
  },
  {
   "cell_type": "code",
   "execution_count": 62,
   "metadata": {},
   "outputs": [
    {
     "data": {
      "text/plain": [
       "((3278, 39),\n",
       " array([3.3, 34.0, 737669.0, 737714.0, 5.0, 4.0, 3.0, 0, 21.0083647,\n",
       "        105.8180219, False, False, True, True, False, False, False, False,\n",
       "        False, False, True, True, False, False, False, False, False, False,\n",
       "        False, False, False, False, False, False, False, False, False,\n",
       "        False, 16.0], dtype=object))"
      ]
     },
     "execution_count": 62,
     "metadata": {},
     "output_type": "execute_result"
    }
   ],
   "source": [
    "for i in range(3278):\n",
    "    for j in range(38, 58):\n",
    "        house[i][57] += 1\n",
    "        if house[i][j] == 1:\n",
    "            if house[i][j] == 14:\n",
    "                house[i][j] += 138\n",
    "            elif house[i][j] == 16:\n",
    "                house[i][j] += 88            \n",
    "            break\n",
    "            \n",
    "for i in range(19):\n",
    "    house = np.delete(house, 38, 1)\n",
    "house.shape, house[0]"
   ]
  },
  {
   "cell_type": "code",
   "execution_count": null,
   "metadata": {},
   "outputs": [],
   "source": []
  },
  {
   "cell_type": "code",
   "execution_count": 63,
   "metadata": {},
   "outputs": [
    {
     "data": {
      "text/plain": [
       "((3278, 12),\n",
       " array([3.3, 34.0, 737669.0, 737714.0, 5.0, 4.0, 3.0, 0, 21.0083647,\n",
       "        105.8180219, 16.0, 3084.0], dtype=object))"
      ]
     },
     "execution_count": 63,
     "metadata": {},
     "output_type": "execute_result"
    }
   ],
   "source": [
    "tienIch = np.zeros([3278, 1])\n",
    "house = np.hstack([house, tienIch])\n",
    "\n",
    "for i in range(3278):\n",
    "    for j in range(10, 38):\n",
    "        if house[i][j] == True:\n",
    "            val = 1\n",
    "        else:\n",
    "            val = 0\n",
    "        house[i][39] += val*(2**(j - 10))\n",
    "            \n",
    "for i in range(28):\n",
    "    house = np.delete(house, 10, 1)\n",
    "\n",
    "house.shape, house[0]"
   ]
  },
  {
   "cell_type": "code",
   "execution_count": 64,
   "metadata": {},
   "outputs": [
    {
     "data": {
      "text/plain": [
       "(3278, 12)"
      ]
     },
     "execution_count": 64,
     "metadata": {},
     "output_type": "execute_result"
    }
   ],
   "source": [
    "house.shape"
   ]
  },
  {
   "cell_type": "code",
   "execution_count": 65,
   "metadata": {},
   "outputs": [],
   "source": [
    "dienTichvaTang = np.zeros([3278, 1])\n",
    "house = np.hstack([house, dienTichvaTang])"
   ]
  },
  {
   "cell_type": "code",
   "execution_count": 66,
   "metadata": {},
   "outputs": [],
   "source": [
    "import math\n",
    "for i in range(3278):\n",
    "    house[i][12] += (16*math.log2(house[i][1])+math.log2(house[i][4]))"
   ]
  },
  {
   "cell_type": "code",
   "execution_count": 67,
   "metadata": {},
   "outputs": [
    {
     "data": {
      "text/plain": [
       "array([3.3, 34.0, 737669.0, 737714.0, 5.0, 4.0, 3.0, 0, 21.0083647,\n",
       "       105.8180219, 16.0, 3084.0, 83.7213335548928], dtype=object)"
      ]
     },
     "execution_count": 67,
     "metadata": {},
     "output_type": "execute_result"
    }
   ],
   "source": [
    "house[0]"
   ]
  },
  {
   "cell_type": "code",
   "execution_count": 68,
   "metadata": {},
   "outputs": [],
   "source": [
    "caoCap = np.zeros([3278, 1])\n",
    "house = np.hstack([house, caoCap])\n",
    "\n",
    "for i in range(3278):\n",
    "    if house[i][10] == 13:\n",
    "        house[i][-1] -= 12\n",
    "    elif house[i][10] == 4:\n",
    "        house[i][-1] -= 15\n",
    "    elif house[i][10] == 10:\n",
    "        house[i][-1] -= 10\n",
    "    elif house[i][10] == 14:\n",
    "        house[i][-1] -= 9\n",
    "    elif house[i][10] == 7:\n",
    "        house[i][-1] -= 8\n",
    "    elif house[i][10] == 1:\n",
    "        house[i][-1] -= 7\n",
    "    elif house[i][10] == 11:\n",
    "        house[i][-1] -= 6\n",
    "    elif house[i][10] == 6: #2120\n",
    "        house[i][-1] -= 5\n",
    "    elif house[i][10] == 13:\n",
    "        house[i][-1] += 3\n",
    "    elif house[i][10] == 19:\n",
    "        house[i][-1] += 2\n",
    "    elif house[i][10] in (5,12):\n",
    "        house[i][-1] += 1\n",
    "    elif house[i][10] == 20:\n",
    "        house[i][-1] += 0\n",
    "    elif house[i][10] in (2,15):\n",
    "        house[i][-1] -= 1\n",
    "    elif house[i][10] == 18:\n",
    "        house[i][-1] -= 2\n",
    "    elif house[i][10] in (8,9):\n",
    "        house[i][-1] -= 3\n",
    "    \n",
    "    elif house[i][10] == 16:\n",
    "        house[i][-1] -= 23\n",
    "#    elif house[i][10] == 17:\n",
    "#        house[i][-1] -= 7\n",
    "#    elif house[i][10] == 18:\n",
    "#        house[i][-1] -= 3\n",
    "#    elif house[i][10] == 19:\n",
    "#        house[i][-1] -= 5\n",
    "    else:\n",
    "        house[i][-1] -= 4"
   ]
  },
  {
   "cell_type": "code",
   "execution_count": 69,
   "metadata": {},
   "outputs": [],
   "source": [
    "house = np.delete(house, 10, 1)"
   ]
  },
  {
   "cell_type": "code",
   "execution_count": 70,
   "metadata": {},
   "outputs": [],
   "source": [
    "y = house[:,0]\n",
    "\n",
    "for i in range(3278):\n",
    "    y[i] = math.log2(y[i])\n",
    "\n",
    "X = np.delete(house, 0, 1)"
   ]
  },
  {
   "cell_type": "code",
   "execution_count": 71,
   "metadata": {},
   "outputs": [],
   "source": [
    "from sklearn.model_selection import train_test_split\n",
    "X_train, X_test, y_train, y_test = train_test_split(X, y, test_size=0.1, random_state=22)"
   ]
  },
  {
   "cell_type": "code",
   "execution_count": 72,
   "metadata": {},
   "outputs": [
    {
     "name": "stdout",
     "output_type": "stream",
     "text": [
      "Sai so trung binh: 3.9746396638129426\n"
     ]
    },
    {
     "data": {
      "text/plain": [
       "10.104648491706016"
      ]
     },
     "execution_count": 72,
     "metadata": {},
     "output_type": "execute_result"
    }
   ],
   "source": [
    "from sklearn.metrics import mean_squared_error\n",
    "from sklearn.neighbors import KNeighborsRegressor as kNN\n",
    "neigh = kNN(n_neighbors=8)\n",
    "neigh.fit(X_train, y_train)\n",
    "y_predict = neigh.predict(X_test)\n",
    "\n",
    "for i in range(y_test.size):\n",
    "    y_test[i] = 2**y_test[i]\n",
    "    y_predict[i] = 2**y_predict[i]\n",
    "\n",
    "var = 0\n",
    "for i in range(y_predict.size):\n",
    "    var = var+abs(y_test[i]-y_predict[i])\n",
    "    #print(y_test[i]-predict)\n",
    "print(\"Sai so trung binh:\", var/y_predict.size)\n",
    "\n",
    "knn_mse = mean_squared_error(y_test, y_predict)\n",
    "knn_rmse = np.sqrt(knn_mse)\n",
    "knn_rmse"
   ]
  },
  {
   "cell_type": "code",
   "execution_count": 41,
   "metadata": {},
   "outputs": [
    {
     "name": "stdout",
     "output_type": "stream",
     "text": [
      "0.8272317921998616\n"
     ]
    },
    {
     "data": {
      "text/plain": [
       "1.5274503771578374"
      ]
     },
     "execution_count": 41,
     "metadata": {},
     "output_type": "execute_result"
    }
   ],
   "source": [
    "from sklearn.tree import DecisionTreeRegressor\n",
    "dt = DecisionTreeRegressor()\n",
    "dt.fit(X_train, y_train)\n",
    "y_predict = dt.predict(X_test)\n",
    "\n",
    "var = 0\n",
    "for i in range(y_predict.size):\n",
    "    var = var+abs(y_test[i]-y_predict[i])\n",
    "    #print(y_test[i]-predict)\n",
    "print(var/y_predict.size)\n",
    "\n",
    "tree_mse = mean_squared_error(y_test, y_predict)\n",
    "tree_rmse = np.sqrt(tree_mse)\n",
    "tree_rmse"
   ]
  },
  {
   "cell_type": "code",
   "execution_count": 17,
   "metadata": {},
   "outputs": [
    {
     "name": "stdout",
     "output_type": "stream",
     "text": [
      "10.220238414634148\n"
     ]
    },
    {
     "data": {
      "text/plain": [
       "12.219147293071213"
      ]
     },
     "execution_count": 17,
     "metadata": {},
     "output_type": "execute_result"
    }
   ],
   "source": [
    "from sklearn.linear_model import LinearRegression\n",
    "lir = LinearRegression()\n",
    "lir.fit(X_train, y_train)\n",
    "\n",
    "var = 0\n",
    "for i in range(y_predict.size):\n",
    "    var = var+abs(y_test[i]-y_predict[i])\n",
    "    #print(y_test[i]-predict)\n",
    "print(var/y_predict.size)\n",
    "\n",
    "y_predict = lir.predict(X_test)\n",
    "lin_mse = mean_squared_error(y_test, y_predict)\n",
    "lin_rmse = np.sqrt(lin_mse)\n",
    "lin_rmse"
   ]
  },
  {
   "cell_type": "code",
   "execution_count": null,
   "metadata": {},
   "outputs": [],
   "source": []
  },
  {
   "cell_type": "code",
   "execution_count": 18,
   "metadata": {},
   "outputs": [
    {
     "data": {
      "text/plain": [
       "RandomForestRegressor()"
      ]
     },
     "execution_count": 18,
     "metadata": {},
     "output_type": "execute_result"
    }
   ],
   "source": [
    "from sklearn.ensemble import RandomForestRegressor\n",
    "rf = RandomForestRegressor()\n",
    "rf.fit(X_train, y_train)\n",
    "#print(forest_rmse)\n",
    "#print(display_scores(forest_rmse_scores))"
   ]
  },
  {
   "cell_type": "code",
   "execution_count": 19,
   "metadata": {},
   "outputs": [],
   "source": [
    "y_pred = rf.predict(X_test)"
   ]
  },
  {
   "cell_type": "code",
   "execution_count": 20,
   "metadata": {},
   "outputs": [
    {
     "name": "stdout",
     "output_type": "stream",
     "text": [
      "8.966281605060978\n"
     ]
    },
    {
     "data": {
      "text/plain": [
       "12.219147293071213"
      ]
     },
     "execution_count": 20,
     "metadata": {},
     "output_type": "execute_result"
    }
   ],
   "source": [
    "var = 0\n",
    "for i in range(y_pred.size):\n",
    "    var = var+abs(y_test[i]-y_pred[i])\n",
    "    #print(y_test[i]-predict)\n",
    "print(var/y_predict.size)\n",
    "\n",
    "tree_mse = mean_squared_error(y_test, y_predict)\n",
    "tree_rmse = np.sqrt(tree_mse)\n",
    "tree_rmse"
   ]
  },
  {
   "cell_type": "code",
   "execution_count": null,
   "metadata": {},
   "outputs": [],
   "source": []
  },
  {
   "cell_type": "code",
   "execution_count": null,
   "metadata": {},
   "outputs": [],
   "source": [
    "nha1 = 0\n",
    "nha2 = 0\n",
    "nha3 = 0\n",
    "nha4 = 0\n",
    "nha5 = 0\n",
    "nha6 = 0\n",
    "nha7 = 0\n",
    "nha8 = 0\n",
    "nha9 = 0\n",
    "nha10 = 0\n",
    "nha11 = 0\n",
    "nha12 = 0\n",
    "nha13 = 0\n",
    "nha14 = 0\n",
    "nha15 = 0\n",
    "nha16 = 0\n",
    "nha17 = 0\n",
    "nha18 = 0\n",
    "nha19 = 0\n",
    "nha20 = 0\n",
    "for i in range(3278):\n",
    "    if house[i][0] < 10.056562:\n",
    "        if house[i][-1] == 1:\n",
    "            nha1 += 1\n",
    "        elif house[i][-1] == 2:\n",
    "            nha2 += 1\n",
    "        elif house[i][-1] == 3:\n",
    "            nha3 += 1\n",
    "        elif house[i][-1] == 4:\n",
    "            nha4 += 1\n",
    "        elif house[i][-1] == 5:\n",
    "            nha5 += 1\n",
    "        elif house[i][-1] == 6:\n",
    "            nha6 += 1\n",
    "        elif house[i][-1] == 7:\n",
    "            nha7 += 1\n",
    "        elif house[i][-1] == 8:\n",
    "            nha8 += 1\n",
    "        elif house[i][-1] == 9:\n",
    "            nha9 += 1\n",
    "        elif house[i][-1] == 10:\n",
    "            nha10 += 1\n",
    "        elif house[i][-1] == 11:\n",
    "            nha11 += 11\n",
    "        elif house[i][-1] == 12:\n",
    "            nha12 += 1\n",
    "        elif house[i][-1] == 13:\n",
    "            nha13 += 1\n",
    "        elif house[i][-1] == 14:\n",
    "            nha14 += 1\n",
    "        elif house[i][-1] == 15:\n",
    "            nha15 += 1\n",
    "        elif house[i][-1] == 16:\n",
    "            nha16 += 1\n",
    "        elif house[i][-1] == 17:\n",
    "            nha17 += 1\n",
    "        elif house[i][-1] == 18:\n",
    "            nha18 += 1\n",
    "        elif house[i][-1] == 19:\n",
    "            nha19 += 1\n",
    "        elif house[i][-1] == 20:\n",
    "            nha20 += 1\n",
    "nha1,nha2,nha3,nha4,nha5,nha6,nha7,nha8,nha9,nha10,nha11,nha12,nha13,nha14,nha15,nha16,nha17,nha18,nha19,nha20"
   ]
  }
 ],
 "metadata": {
  "kernelspec": {
   "display_name": "Python 3",
   "language": "python",
   "name": "python3"
  },
  "language_info": {
   "codemirror_mode": {
    "name": "ipython",
    "version": 3
   },
   "file_extension": ".py",
   "mimetype": "text/x-python",
   "name": "python",
   "nbconvert_exporter": "python",
   "pygments_lexer": "ipython3",
   "version": "3.7.3"
  }
 },
 "nbformat": 4,
 "nbformat_minor": 2
}
